{
  "cells": [
    {
      "cell_type": "markdown",
      "id": "86224725-0be8-454a-a9ee-a96ce8a443a8",
      "metadata": {
        "id": "86224725-0be8-454a-a9ee-a96ce8a443a8"
      },
      "source": [
        "# Автоматизированные рассылки с помощью Python"
      ]
    },
    {
      "cell_type": "markdown",
      "id": "c8a27cc4-6c90-4d56-b394-ee601d93c02f",
      "metadata": {
        "id": "c8a27cc4-6c90-4d56-b394-ee601d93c02f"
      },
      "source": [
        "## Рассылки по почте"
      ]
    },
    {
      "cell_type": "code",
      "execution_count": 1,
      "id": "cc923ede-9c0e-4c8f-bfb7-d316365290a6",
      "metadata": {
        "colab": {
          "base_uri": "https://localhost:8080/"
        },
        "id": "cc923ede-9c0e-4c8f-bfb7-d316365290a6",
        "outputId": "027a7886-f0e7-4970-acc9-2dc8cff81285"
      },
      "outputs": [
        {
          "output_type": "stream",
          "name": "stdout",
          "text": [
            "Collecting email\n",
            "  Downloading email-4.0.2.tar.gz (1.2 MB)\n",
            "\u001b[?25l     \u001b[90m━━━━━━━━━━━━━━━━━━━━━━━━━━━━━━━━━━━━━━━━\u001b[0m \u001b[32m0.0/1.2 MB\u001b[0m \u001b[31m?\u001b[0m eta \u001b[36m-:--:--\u001b[0m\r\u001b[2K     \u001b[91m━━━━\u001b[0m\u001b[90m╺\u001b[0m\u001b[90m━━━━━━━━━━━━━━━━━━━━━━━━━━━━━━━━━━━\u001b[0m \u001b[32m0.1/1.2 MB\u001b[0m \u001b[31m4.7 MB/s\u001b[0m eta \u001b[36m0:00:01\u001b[0m\r\u001b[2K     \u001b[91m━━━━━━━━━━━━━━━━━━━━━━━━━━━━━━━━━━━━━━━\u001b[0m\u001b[91m╸\u001b[0m \u001b[32m1.2/1.2 MB\u001b[0m \u001b[31m18.6 MB/s\u001b[0m eta \u001b[36m0:00:01\u001b[0m\r\u001b[2K     \u001b[90m━━━━━━━━━━━━━━━━━━━━━━━━━━━━━━━━━━━━━━━━\u001b[0m \u001b[32m1.2/1.2 MB\u001b[0m \u001b[31m12.5 MB/s\u001b[0m eta \u001b[36m0:00:00\u001b[0m\n",
            "\u001b[?25h  \u001b[1;31merror\u001b[0m: \u001b[1msubprocess-exited-with-error\u001b[0m\n",
            "  \n",
            "  \u001b[31m×\u001b[0m \u001b[32mpython setup.py egg_info\u001b[0m did not run successfully.\n",
            "  \u001b[31m│\u001b[0m exit code: \u001b[1;36m1\u001b[0m\n",
            "  \u001b[31m╰─>\u001b[0m See above for output.\n",
            "  \n",
            "  \u001b[1;35mnote\u001b[0m: This error originates from a subprocess, and is likely not a problem with pip.\n",
            "  Preparing metadata (setup.py) ... \u001b[?25l\u001b[?25herror\n",
            "\u001b[1;31merror\u001b[0m: \u001b[1mmetadata-generation-failed\u001b[0m\n",
            "\n",
            "\u001b[31m×\u001b[0m Encountered error while generating package metadata.\n",
            "\u001b[31m╰─>\u001b[0m See above for output.\n",
            "\n",
            "\u001b[1;35mnote\u001b[0m: This is an issue with the package mentioned above, not pip.\n",
            "\u001b[1;36mhint\u001b[0m: See above for details.\n"
          ]
        }
      ],
      "source": [
        "!pip install email"
      ]
    },
    {
      "cell_type": "code",
      "execution_count": 2,
      "id": "c059f26e-14e4-4112-9b34-b58709252a12",
      "metadata": {
        "id": "c059f26e-14e4-4112-9b34-b58709252a12"
      },
      "outputs": [],
      "source": [
        "import email\n",
        "import email.message\n",
        "from email.message import EmailMessage\n",
        "import smtplib"
      ]
    },
    {
      "cell_type": "code",
      "execution_count": 3,
      "id": "da8a27d6-b0fe-4258-8d2e-b4bf7f0a29ec",
      "metadata": {
        "id": "da8a27d6-b0fe-4258-8d2e-b4bf7f0a29ec"
      },
      "outputs": [],
      "source": [
        "from getpass import getpass"
      ]
    },
    {
      "cell_type": "code",
      "execution_count": null,
      "id": "c56f60f1-f874-4fd2-b251-d98c69aada49",
      "metadata": {
        "id": "c56f60f1-f874-4fd2-b251-d98c69aada49"
      },
      "outputs": [],
      "source": [
        "HOST = \"smtp.hse.ru\"\n",
        "PASSWORD = getpass()\n",
        "PORT = 587\n",
        "SENDER_EMAIL = \"k@hse.ru\"\n",
        "\n",
        "smtpserver = smtplib.SMTP(HOST, PORT)\n",
        "smtpserver.starttls()\n",
        "smtpserver.login(\"k\", PASSWORD)"
      ]
    },
    {
      "cell_type": "code",
      "execution_count": null,
      "id": "6ae84aad-02fb-43b8-acf9-1a5beba156c4",
      "metadata": {
        "id": "6ae84aad-02fb-43b8-acf9-1a5beba156c4"
      },
      "outputs": [],
      "source": [
        "from email.header    import Header\n",
        "from email.mime.text import MIMEText\n",
        "from email.mime.multipart import MIMEMultipart"
      ]
    },
    {
      "cell_type": "code",
      "execution_count": null,
      "id": "f4dcddc6-7666-475a-a2d9-c16cb4fc2f7d",
      "metadata": {
        "id": "f4dcddc6-7666-475a-a2d9-c16cb4fc2f7d"
      },
      "outputs": [],
      "source": [
        "to_mail = 'm@gmail.com'    # адрес получателя"
      ]
    },
    {
      "cell_type": "code",
      "execution_count": null,
      "id": "9183568f-9cff-48a4-8b1a-e472280f545a",
      "metadata": {
        "id": "9183568f-9cff-48a4-8b1a-e472280f545a"
      },
      "outputs": [],
      "source": [
        "msg = MIMEMultipart()                                     # Создаем сообщение\n",
        "msg[\"From\"] = SENDER_EMAIL                                  # Добавляем адрес отправителя\n",
        "msg['To'] = to_mail                                       # Добавляем адрес получателя\n",
        "msg[\"Subject\"] = Header('Орг.инфо про курс', 'utf-8')        # Пишем тему сообщения\n",
        "msg.attach(MIMEText(\"Текст сообщения\", 'html', 'utf-8'))  # Добавляем форматированный текст сообщения"
      ]
    },
    {
      "cell_type": "code",
      "execution_count": null,
      "id": "d9ef1dd6-8079-49b5-af96-5cc3d97476e2",
      "metadata": {
        "id": "d9ef1dd6-8079-49b5-af96-5cc3d97476e2",
        "outputId": "f2ff1f93-31d6-442f-ea88-72f95f0952c2"
      },
      "outputs": [
        {
          "data": {
            "text/plain": [
              "{}"
            ]
          },
          "execution_count": 10,
          "metadata": {},
          "output_type": "execute_result"
        }
      ],
      "source": [
        "smtpserver.send_message(msg) # отправляем сообщение"
      ]
    },
    {
      "cell_type": "code",
      "execution_count": null,
      "id": "680e5b05-24d2-4657-99ef-ba0d67f17e91",
      "metadata": {
        "id": "680e5b05-24d2-4657-99ef-ba0d67f17e91"
      },
      "outputs": [],
      "source": [
        "mails = ['m@gmail.com','b@yandex.ru','ma@gmail.com']"
      ]
    },
    {
      "cell_type": "code",
      "execution_count": null,
      "id": "4eb7de4e-e9d7-4167-bd99-e92477956d75",
      "metadata": {
        "id": "4eb7de4e-e9d7-4167-bd99-e92477956d75"
      },
      "outputs": [],
      "source": [
        "for mail in mails:\n",
        "    msg = MIMEMultipart()                                     # Создаем сообщение\n",
        "    msg[\"From\"] = SENDER_EMAIL                                  # Добавляем адрес отправителя\n",
        "    msg['To'] = mail                                       # Добавляем адрес получателя\n",
        "    msg[\"Subject\"] = Header('Орг.инфо про курс', 'utf-8')        # Пишем тему сообщения\n",
        "    text = f'Сообщение для почты {mail}'\n",
        "    msg.attach(MIMEText(text, 'html', 'utf-8'))  # Добавляем форматированный текст сообщения\n",
        "    smtpserver.send_message(msg)"
      ]
    },
    {
      "cell_type": "markdown",
      "id": "32933012-b87d-42c1-9dfa-5f060f43bf5c",
      "metadata": {
        "id": "32933012-b87d-42c1-9dfa-5f060f43bf5c"
      },
      "source": [
        "## Кастомизированные сообщения"
      ]
    },
    {
      "cell_type": "code",
      "execution_count": null,
      "id": "b7efb3e7-96f6-484c-82a2-34ec9fe5abcc",
      "metadata": {
        "id": "b7efb3e7-96f6-484c-82a2-34ec9fe5abcc"
      },
      "outputs": [],
      "source": [
        "persons = [[\"Виктор Васильевич Орехов\", \"м\", 'm@gmail.com', 2],\\\n",
        "          [\"Елена Владимировна Смирнова\", \"ж\", 'b@yandex.ru', 1],\\\n",
        "          [\"Галина Марковна Волохова\", \"ж\",'m@gmail.com', 3]]"
      ]
    },
    {
      "cell_type": "code",
      "execution_count": null,
      "id": "a418fa93-6b9b-4300-b788-e27ab3966c22",
      "metadata": {
        "id": "a418fa93-6b9b-4300-b788-e27ab3966c22",
        "outputId": "e874b669-fdc4-4638-df95-acb9668bd498"
      },
      "outputs": [
        {
          "data": {
            "text/plain": [
              "['Виктор Васильевич Орехов', 'м', 'mbburova@gmail.com']"
            ]
          },
          "execution_count": 14,
          "metadata": {},
          "output_type": "execute_result"
        }
      ],
      "source": [
        "[\"Виктор Васильевич Орехов\", \"м\", 'm@gmail.com']"
      ]
    },
    {
      "cell_type": "code",
      "execution_count": null,
      "id": "68f10e67-305b-46ed-ba0e-24638883cd29",
      "metadata": {
        "id": "68f10e67-305b-46ed-ba0e-24638883cd29",
        "outputId": "89c52a85-82c9-4991-90f1-275cade3a703"
      },
      "outputs": [
        {
          "data": {
            "text/plain": [
              "'mbburova@gmail.com'"
            ]
          },
          "execution_count": 15,
          "metadata": {},
          "output_type": "execute_result"
        }
      ],
      "source": [
        "[\"Виктор Васильевич Орехов\", \"м\", 'm@gmail.com'][2]"
      ]
    },
    {
      "cell_type": "code",
      "execution_count": null,
      "id": "0026dc15-659a-4292-a983-330560d76234",
      "metadata": {
        "id": "0026dc15-659a-4292-a983-330560d76234",
        "outputId": "6da18fe2-8e49-48a4-c12e-94beee98c461"
      },
      "outputs": [
        {
          "data": {
            "text/plain": [
              "'Виктор'"
            ]
          },
          "execution_count": 16,
          "metadata": {},
          "output_type": "execute_result"
        }
      ],
      "source": [
        "name = [\"Виктор Васильевич Орехов\", \"м\", 'm@gmail.com'][0]\n",
        "name.split()[0]"
      ]
    },
    {
      "cell_type": "code",
      "execution_count": null,
      "id": "7c57a5dc-67f1-477e-aeaa-aa436efd75f8",
      "metadata": {
        "id": "7c57a5dc-67f1-477e-aeaa-aa436efd75f8",
        "outputId": "3a2d070f-173b-4413-d1a9-4404f29dc1ec"
      },
      "outputs": [
        {
          "data": {
            "text/plain": [
              "'Виктор Васильевич'"
            ]
          },
          "execution_count": 17,
          "metadata": {},
          "output_type": "execute_result"
        }
      ],
      "source": [
        "name.split()[0] + ' ' + name.split()[1]"
      ]
    },
    {
      "cell_type": "code",
      "execution_count": null,
      "id": "d5108b7b-5ead-48fe-99be-7556dd4c31c0",
      "metadata": {
        "id": "d5108b7b-5ead-48fe-99be-7556dd4c31c0"
      },
      "outputs": [],
      "source": [
        "for person in persons:\n",
        "    msg = MIMEMultipart()                                     # Создаем сообщение\n",
        "    msg[\"From\"] = SENDER_EMAIL                                  # Добавляем адрес отправителя\n",
        "    msg['To'] = person[2]                                      # Добавляем адрес получателя\n",
        "    msg[\"Subject\"] = Header(f'Орг.инфо для {person[0]}', 'utf-8')        # Пишем тему сообщения\n",
        "    name = person[0]\n",
        "    gender = person[1]\n",
        "    course = person[3]\n",
        "    if gender == \"ж\":\n",
        "        intro = \"Дорогая \" + name + \"!\\n\"\n",
        "    else:\n",
        "        intro = \"Дорогой \" + name + \"!\\n\"\n",
        "    if course == 1 or course == 2:\n",
        "        c = f'Вы уже на {course}-ом курсе!'\n",
        "    else:\n",
        "        c = f'Вы уже на {course}-ем курсе!'\n",
        "    text = intro + c + 'Напоминаю, что у Вас скоро экзамен!'\n",
        "    msg.attach(MIMEText(text, \"plain\", 'utf-8'))  # Добавляем форматированный текст сообщения\n",
        "    smtpserver.send_message(msg)"
      ]
    },
    {
      "cell_type": "code",
      "execution_count": null,
      "id": "e1795555-8e46-4786-8ce6-05f179eaab0c",
      "metadata": {
        "id": "e1795555-8e46-4786-8ce6-05f179eaab0c"
      },
      "outputs": [],
      "source": []
    }
  ],
  "metadata": {
    "kernelspec": {
      "display_name": "Python 3 (ipykernel)",
      "language": "python",
      "name": "python3"
    },
    "language_info": {
      "codemirror_mode": {
        "name": "ipython",
        "version": 3
      },
      "file_extension": ".py",
      "mimetype": "text/x-python",
      "name": "python",
      "nbconvert_exporter": "python",
      "pygments_lexer": "ipython3",
      "version": "3.11.5"
    },
    "colab": {
      "provenance": []
    }
  },
  "nbformat": 4,
  "nbformat_minor": 5
}